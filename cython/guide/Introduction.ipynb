{
 "cells": [
  {
   "cell_type": "markdown",
   "metadata": {},
   "source": [
    "# libcarma "
   ]
  },
  {
   "cell_type": "markdown",
   "metadata": {},
   "source": [
    "A Continuous-time Autoregressive Moving Average (C-ARMA) process is a stochastic process. This python module implements code to model light curves, i.e. ordered lists of flux as a function of time, as C-ARMA processes. To use the module, we must import the module - "
   ]
  },
  {
   "cell_type": "code",
   "execution_count": 1,
   "metadata": {
    "collapsed": true
   },
   "outputs": [],
   "source": [
    "import libcarma.libcarma as libcarma"
   ]
  },
  {
   "cell_type": "markdown",
   "metadata": {},
   "source": [
    "Next, we create a new basicTask object to actually perform some tasks. Let us create a basicTask object to model and analyze C-ARMA(2,1) systems. "
   ]
  },
  {
   "cell_type": "code",
   "execution_count": 2,
   "metadata": {
    "collapsed": true
   },
   "outputs": [],
   "source": [
    "newTask = libcarma.basicTask(2,1)"
   ]
  },
  {
   "cell_type": "markdown",
   "metadata": {},
   "source": [
    "Task objects contain one or more C-ARMA model objects i.e. each task object is capable of being used to study multiple C-ARMA models simultaneously. The only restriction is that the C-ARMA models held by each task object have to have the same dimensionality i.e. the same p & q. Of course, this does not prevent us from having multiple task objects declared at once. By default, the task object will query your system to determine how many hardware threads (excluding Intel Hyperthreading) your CPU supports and will hold that number of C-ARMA models. However, this behavior can be changed by explicitly instructing the task constructor to create a specific number of C-ARMA models in the task. For eg."
   ]
  },
  {
   "cell_type": "code",
   "execution_count": 3,
   "metadata": {
    "collapsed": true
   },
   "outputs": [],
   "source": [
    "anotherNewTask = libcarma.basicTask(3, 1, nthreads = 2)"
   ]
  },
  {
   "cell_type": "markdown",
   "metadata": {},
   "source": [
    "The statement above has just created a task that holds 2 C-ARMA(3,1) models for use. We can also specify how the models will burn in light curves when generating simulated light curves by calling the constructor in the following manner"
   ]
  },
  {
   "cell_type": "code",
   "execution_count": 4,
   "metadata": {
    "collapsed": true
   },
   "outputs": [],
   "source": [
    "yetAnotherNewTask = libcarma.basicTask(4, 2, nthreads = 1, nburn = 100000)"
   ]
  },
  {
   "cell_type": "markdown",
   "metadata": {},
   "source": [
    "We must specify a fixed C-ARMA model to be able to do useful things with our newTask. C-ARMA models are specified using a numpy array of parameters. Let us construct the actual parameter values from the roots of the AR & MA polynomials - "
   ]
  },
  {
   "cell_type": "code",
   "execution_count": 7,
   "metadata": {
    "collapsed": true
   },
   "outputs": [],
   "source": [
    "r_1 = +0.73642081+0j\n",
    "r_2 = -0.01357919+0j\n",
    "sigma = 7.0e-9\n",
    "m_1 = -5.83333333"
   ]
  },
  {
   "cell_type": "markdown",
   "metadata": {},
   "source": [
    "Note that we have purposely made the first root positive i.e. the C-ARMA model corresponding to this set of roots will be unstable. We can use numpy to compute the polynomial coefficients corresponding to these roots - "
   ]
  },
  {
   "cell_type": "code",
   "execution_count": 8,
   "metadata": {
    "collapsed": false
   },
   "outputs": [],
   "source": [
    "import numpy as np\n",
    "ARPoly = np.poly([r_1, r_2])\n",
    "MAPoly = sigma/np.poly([m_1])"
   ]
  },
  {
   "cell_type": "markdown",
   "metadata": {},
   "source": [
    "and read them into a numpy array that we can use to initialize one of the C-ARMA models in newTask."
   ]
  },
  {
   "cell_type": "code",
   "execution_count": 9,
   "metadata": {
    "collapsed": true
   },
   "outputs": [],
   "source": [
    "Theta = np.zeros(4)\n",
    "\n",
    "Theta[0] = ARPoly[1]\n",
    "Theta[1] = ARPoly[2]\n",
    "Theta[2] = MAPoly[0]\n",
    "Theta[3] = MAPoly[1]"
   ]
  },
  {
   "cell_type": "markdown",
   "metadata": {},
   "source": [
    "Before we initialize one of the C-ARMA models in newTask, let's check to see if the parameter vector is valid (we expect that it is not!) - "
   ]
  },
  {
   "cell_type": "code",
   "execution_count": 10,
   "metadata": {
    "collapsed": false
   },
   "outputs": [
    {
     "name": "stdout",
     "output_type": "stream",
     "text": [
      "False\n"
     ]
    }
   ],
   "source": [
    "print newTask.check(Theta)"
   ]
  },
  {
   "cell_type": "markdown",
   "metadata": {},
   "source": [
    "which is of course exactly what we should have expected since C-ARMA models have to have AR & MA roots with non-negative real parts to be stable! Let's change the value of r_1 and re-check"
   ]
  },
  {
   "cell_type": "code",
   "execution_count": 11,
   "metadata": {
    "collapsed": false
   },
   "outputs": [
    {
     "name": "stdout",
     "output_type": "stream",
     "text": [
      "True\n"
     ]
    }
   ],
   "source": [
    "r_1 = -0.73642081+0j\n",
    "ARPoly = np.poly([r_1, r_2])\n",
    "Theta[0] = ARPoly[1]\n",
    "Theta[1] = ARPoly[2]\n",
    "print newTask.check(Theta)"
   ]
  },
  {
   "cell_type": "markdown",
   "metadata": {},
   "source": [
    "Now that we have established that we have a good C-ARMA model parameter vector, let us set the zero-th C-ARMA model in newTask to use this vector. We also need to pick a time increment, dt, between steps. We'll use the Kepler value of dt = 0.02 day "
   ]
  },
  {
   "cell_type": "code",
   "execution_count": 12,
   "metadata": {
    "collapsed": true
   },
   "outputs": [],
   "source": [
    "dt = 0.02\n",
    "newTask.set(dt, Theta, tnum = 0)"
   ]
  },
  {
   "cell_type": "markdown",
   "metadata": {},
   "source": [
    "We can check to see which of the C-ARMA models held by newTask have been set -"
   ]
  },
  {
   "cell_type": "code",
   "execution_count": 13,
   "metadata": {
    "collapsed": false
   },
   "outputs": [
    {
     "data": {
      "text/plain": [
       "array([ True, False, False, False], dtype=bool)"
      ]
     },
     "execution_count": 13,
     "metadata": {},
     "output_type": "execute_result"
    }
   ],
   "source": [
    "newTask.list()"
   ]
  },
  {
   "cell_type": "markdown",
   "metadata": {},
   "source": [
    "As can be seen above - only the first model has been set with values so far. Let's see what the various C-ARMA model system matrices are..."
   ]
  },
  {
   "cell_type": "code",
   "execution_count": 14,
   "metadata": {
    "collapsed": true
   },
   "outputs": [],
   "source": [
    "newTask.show()"
   ]
  },
  {
   "cell_type": "markdown",
   "metadata": {},
   "source": [
    "As can be seen by the way we issued the previous command, we do not have to specify tnum = 0 because the default for tnum is 0. Now lets see what the long-term variance of light curves made with this model is"
   ]
  },
  {
   "cell_type": "code",
   "execution_count": 18,
   "metadata": {
    "collapsed": false
   },
   "outputs": [
    {
     "data": {
      "text/plain": [
       "5.71631637304964e-08"
      ]
     },
     "execution_count": 18,
     "metadata": {},
     "output_type": "execute_result"
    }
   ],
   "source": [
    "import math\n",
    "math.sqrt(newTask.Sigma()[0,0])"
   ]
  },
  {
   "cell_type": "markdown",
   "metadata": {},
   "source": [
    "Finally, we can simulate a light curve using this C-ARMA model and plot it..."
   ]
  },
  {
   "cell_type": "code",
   "execution_count": 22,
   "metadata": {
    "collapsed": true
   },
   "outputs": [],
   "source": [
    "newLC = newTask.simulate(100000)\n",
    "import matplotlib.pyplot as plt\n",
    "plt.figure(1)\n",
    "plt.plot(newLC.t, newLC.x)\n",
    "plt.savefig('lc.jpg')"
   ]
  },
  {
   "cell_type": "markdown",
   "metadata": {},
   "source": [
    "<img src=\"lc.jpg\">"
   ]
  },
  {
   "cell_type": "code",
   "execution_count": null,
   "metadata": {
    "collapsed": true
   },
   "outputs": [],
   "source": []
  }
 ],
 "metadata": {
  "kernelspec": {
   "display_name": "Python 2",
   "language": "python",
   "name": "python2"
  },
  "language_info": {
   "codemirror_mode": {
    "name": "ipython",
    "version": 2
   },
   "file_extension": ".py",
   "mimetype": "text/x-python",
   "name": "python",
   "nbconvert_exporter": "python",
   "pygments_lexer": "ipython2",
   "version": "2.7.11"
  }
 },
 "nbformat": 4,
 "nbformat_minor": 0
}
