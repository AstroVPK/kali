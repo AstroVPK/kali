{
 "cells": [
  {
   "cell_type": "markdown",
   "metadata": {},
   "source": [
    "# libcarma "
   ]
  },
  {
   "cell_type": "markdown",
   "metadata": {},
   "source": [
    "A Continuous-time Autoregressive Moving Average (C-ARMA) process is a stochastic process defined by the Ito equation\n",
    "$\\sum_{i = 1}^{p} a_{i}\\mathrm{d}^{i - 1}F = \\sum_{j = 0}^{q} b_{j}\\mathrm{d}^{j}(\\mathrm{d} W)$ with $q < p$. This python module implements code to model light curves, i.e. ordered lists of flux as a function of time, as C-ARMA processes. To use the module, we must import the module - "
   ]
  },
  {
   "cell_type": "code",
   "execution_count": 1,
   "metadata": {
    "collapsed": true
   },
   "outputs": [],
   "source": [
    "import libcarma.libcarma as libcarma"
   ]
  }
 ],
 "metadata": {
  "kernelspec": {
   "display_name": "Python 2",
   "language": "python",
   "name": "python2"
  },
  "language_info": {
   "codemirror_mode": {
    "name": "ipython",
    "version": 2
   },
   "file_extension": ".py",
   "mimetype": "text/x-python",
   "name": "python",
   "nbconvert_exporter": "python",
   "pygments_lexer": "ipython2",
   "version": "2.7.11"
  }
 },
 "nbformat": 4,
 "nbformat_minor": 0
}
